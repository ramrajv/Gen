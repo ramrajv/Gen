{
  "nbformat": 4,
  "nbformat_minor": 0,
  "metadata": {
    "colab": {
      "name": "Neo4j.ipynb",
      "provenance": [],
      "authorship_tag": "ABX9TyPjlEs86p76wjc8aqSsU+Xw",
      "include_colab_link": true
    },
    "kernelspec": {
      "name": "python3",
      "display_name": "Python 3"
    },
    "language_info": {
      "name": "python"
    }
  },
  "cells": [
    {
      "cell_type": "markdown",
      "metadata": {
        "id": "view-in-github",
        "colab_type": "text"
      },
      "source": [
        "<a href=\"https://colab.research.google.com/github/ramrajv/Gen/blob/main/Neo4j.ipynb\" target=\"_parent\"><img src=\"https://colab.research.google.com/assets/colab-badge.svg\" alt=\"Open In Colab\"/></a>"
      ]
    },
    {
      "cell_type": "code",
      "execution_count": 2,
      "metadata": {
        "colab": {
          "base_uri": "https://localhost:8080/"
        },
        "id": "304qmidlDKzC",
        "outputId": "05261fbd-88a1-4ab3-f209-805866e68566"
      },
      "outputs": [
        {
          "output_type": "stream",
          "name": "stdout",
          "text": [
            "Looking in indexes: https://pypi.org/simple, https://us-python.pkg.dev/colab-wheels/public/simple/\n",
            "Collecting neo4j\n",
            "  Downloading neo4j-4.4.5.tar.gz (95 kB)\n",
            "\u001b[K     |████████████████████████████████| 95 kB 2.7 MB/s \n",
            "\u001b[?25hRequirement already satisfied: pytz in /usr/local/lib/python3.7/dist-packages (from neo4j) (2022.1)\n",
            "Building wheels for collected packages: neo4j\n",
            "  Building wheel for neo4j (setup.py) ... \u001b[?25l\u001b[?25hdone\n",
            "  Created wheel for neo4j: filename=neo4j-4.4.5-py3-none-any.whl size=123291 sha256=ca9b8d3b1fec83f0a626507ee8c57252a654a0b418dc2263b31a67fb96e2304d\n",
            "  Stored in directory: /root/.cache/pip/wheels/73/62/2d/6532ffe9b1fdc65f04e7461279cda78fccaa67cf3c706e6e3d\n",
            "Successfully built neo4j\n",
            "Installing collected packages: neo4j\n",
            "Successfully installed neo4j-4.4.5\n"
          ]
        }
      ],
      "source": [
        "!pip install neo4j"
      ]
    },
    {
      "cell_type": "code",
      "source": [
        "from neo4j import GraphDatabase"
      ],
      "metadata": {
        "id": "9t9to1DsDOUt"
      },
      "execution_count": 3,
      "outputs": []
    },
    {
      "cell_type": "code",
      "source": [
        "def init_driver(uri, username, password):\n",
        "    # Create an instance of the driver\n",
        "    current_app.driver = GraphDatabase.driver(uri, auth=(username, password))\n",
        "\n",
        "    # Verify Connectivity\n",
        "    current_app.driver.verify_connectivity()\n",
        "\n",
        "    return current_app.driver"
      ],
      "metadata": {
        "id": "4Pf9ePfQoPGf"
      },
      "execution_count": 4,
      "outputs": []
    },
    {
      "cell_type": "code",
      "source": [
        "!python3 'tests.py'"
      ],
      "metadata": {
        "colab": {
          "base_uri": "https://localhost:8080/"
        },
        "id": "AaOPR7OXoZYQ",
        "outputId": "06ab2e51-353b-4d08-8839-6d3c5051eb38"
      },
      "execution_count": 9,
      "outputs": [
        {
          "output_type": "stream",
          "name": "stdout",
          "text": [
            "Traceback (most recent call last):\n",
            "  File \"tests.py\", line 2, in <module>\n",
            "    from api.neo4j import close_driver, get_driver\n",
            "ModuleNotFoundError: No module named 'api'\n"
          ]
        }
      ]
    },
    {
      "cell_type": "code",
      "source": [
        ""
      ],
      "metadata": {
        "id": "NXpBmhAzochC"
      },
      "execution_count": null,
      "outputs": []
    }
  ]
}